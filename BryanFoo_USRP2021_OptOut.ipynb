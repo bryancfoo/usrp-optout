{
  "nbformat": 4,
  "nbformat_minor": 0,
  "metadata": {
    "colab": {
      "name": "BryanFoo_USRP2021_OptOut",
      "provenance": [],
      "collapsed_sections": []
    },
    "kernelspec": {
      "name": "python3",
      "display_name": "Python 3"
    },
    "language_info": {
      "name": "python"
    }
  },
  "cells": [
    {
      "cell_type": "code",
      "metadata": {
        "id": "JHq3coTSMxVc"
      },
      "source": [
        "import numpy as np\n",
        "import matplotlib.pyplot as plt\n",
        "from scipy.optimize import curve_fit as cf"
      ],
      "execution_count": null,
      "outputs": []
    },
    {
      "cell_type": "code",
      "metadata": {
        "id": "OmwF8xeyPROb"
      },
      "source": [
        "data_array = np.transpose(np.loadtxt(\"data.txt\", dtype=float, skiprows=1))"
      ],
      "execution_count": null,
      "outputs": []
    },
    {
      "cell_type": "code",
      "metadata": {
        "colab": {
          "base_uri": "https://localhost:8080/"
        },
        "id": "-260vtpLPz_q",
        "outputId": "5317eb28-e7ea-4d0d-e877-aad036d6c957"
      },
      "source": [
        "data_array"
      ],
      "execution_count": null,
      "outputs": [
        {
          "output_type": "execute_result",
          "data": {
            "text/plain": [
              "array([[0.5488, 0.7152, 0.6028, 0.5449, 0.4237, 0.6459, 0.4376, 0.8918,\n",
              "        0.9637, 0.3834, 0.7917, 0.5289, 0.568 , 0.9256, 0.071 , 0.0871,\n",
              "        0.0202, 0.8326, 0.7782, 0.87  , 0.9786, 0.7992, 0.4615, 0.7805,\n",
              "        0.1183, 0.6399, 0.1434, 0.9447, 0.5218, 0.4147],\n",
              "       [0.8243, 1.1299, 0.8912, 0.7326, 0.7115, 1.0423, 0.7381, 1.2995,\n",
              "        1.2154, 0.6087, 1.1072, 0.8154, 0.782 , 1.2761, 0.2337, 0.1807,\n",
              "        0.063 , 1.2118, 1.0834, 1.2433, 1.433 , 1.175 , 0.9862, 1.1181,\n",
              "        0.2984, 0.9602, 0.2053, 1.2868, 0.809 , 0.7025],\n",
              "       [0.0529, 0.1548, 0.0912, 0.1137, 0.0038, 0.1235, 0.1224, 0.1234,\n",
              "        0.1887, 0.1364, 0.0719, 0.0874, 0.1395, 0.012 , 0.1334, 0.1341,\n",
              "        0.0421, 0.0258, 0.0631, 0.0727, 0.114 , 0.0877, 0.1977, 0.0204,\n",
              "        0.0418, 0.0323, 0.1306, 0.0507, 0.0933, 0.0489]])"
            ]
          },
          "metadata": {
            "tags": []
          },
          "execution_count": 7
        }
      ]
    },
    {
      "cell_type": "code",
      "metadata": {
        "colab": {
          "base_uri": "https://localhost:8080/",
          "height": 283
        },
        "id": "7VS1lfM0RtXo",
        "outputId": "fe1d5535-7dca-4f7c-cc2c-5b291b1b0a62"
      },
      "source": [
        "x = data_array[0]\n",
        "y = data_array[1]\n",
        "std = data_array[2]\n",
        "plt.scatter(x, y)"
      ],
      "execution_count": null,
      "outputs": [
        {
          "output_type": "execute_result",
          "data": {
            "text/plain": [
              "<matplotlib.collections.PathCollection at 0x7fe064bcfd10>"
            ]
          },
          "metadata": {
            "tags": []
          },
          "execution_count": 33
        },
        {
          "output_type": "display_data",
          "data": {
            "image/png": "[encoded data removed]",
            "text/plain": [
              "<Figure size 432x288 with 1 Axes>"
            ]
          },
          "metadata": {
            "tags": [],
            "needs_background": "light"
          }
        }
      ]
    },
    {
      "cell_type": "code",
      "metadata": {
        "id": "NN1-yugRSDSi"
      },
      "source": [
        "def f(x, a, b, c):\n",
        "  return a * x**2 + b * x + c"
      ],
      "execution_count": null,
      "outputs": []
    },
    {
      "cell_type": "code",
      "metadata": {
        "id": "FHPdEvnrk2a2"
      },
      "source": [
        "popt, pcov = cf(f, x, y, sigma=std)"
      ],
      "execution_count": null,
      "outputs": []
    },
    {
      "cell_type": "code",
      "metadata": {
        "colab": {
          "base_uri": "https://localhost:8080/"
        },
        "id": "cBJvFfE_k-FT",
        "outputId": "4bad8d1e-c9d7-427b-9aa7-b6ba44d2c681"
      },
      "source": [
        "popt"
      ],
      "execution_count": null,
      "outputs": [
        {
          "output_type": "execute_result",
          "data": {
            "text/plain": [
              "array([-0.42081552,  1.69306944,  0.06881083])"
            ]
          },
          "metadata": {
            "tags": []
          },
          "execution_count": 37
        }
      ]
    },
    {
      "cell_type": "code",
      "metadata": {
        "colab": {
          "base_uri": "https://localhost:8080/",
          "height": 283
        },
        "id": "wwywM4B1lCGQ",
        "outputId": "93bcc36a-f774-462e-cdbe-d2214413ae58"
      },
      "source": [
        "sorted_x = np.sort(x)\n",
        "plt.scatter(x, y, label = \"Data\", color = 'r')\n",
        "plt.plot(sorted_x, f(sorted_x, -0.42081552, 1.69306944, 0.06881083), label = \"Fitted quadratic\")\n",
        "plt.legend()"
      ],
      "execution_count": null,
      "outputs": [
        {
          "output_type": "execute_result",
          "data": {
            "text/plain": [
              "<matplotlib.legend.Legend at 0x7fe06470af50>"
            ]
          },
          "metadata": {
            "tags": []
          },
          "execution_count": 44
        },
        {
          "output_type": "display_data",
          "data": {
            "image/png": "[encoded data removed]",
            "text/plain": [
              "<Figure size 432x288 with 1 Axes>"
            ]
          },
          "metadata": {
            "tags": [],
            "needs_background": "light"
          }
        }
      ]
    },
    {
      "cell_type": "code",
      "metadata": {
        "id": "mOrbww8DlpTK"
      },
      "source": [
        ""
      ],
      "execution_count": null,
      "outputs": []
    }
  ]
}